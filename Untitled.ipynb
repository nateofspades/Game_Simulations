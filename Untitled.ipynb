{
 "cells": [
  {
   "cell_type": "code",
   "execution_count": 1,
   "id": "883a9aa6",
   "metadata": {},
   "outputs": [
    {
     "name": "stdout",
     "output_type": "stream",
     "text": [
      "p_win_game: 0.36, prop_days: 0.537416\n",
      "p_win_game: 0.363, prop_days: 0.560946\n",
      "p_win_game: 0.367, prop_days: 0.595392\n",
      "p_win_game: 0.370, prop_days: 0.618849\n",
      "p_win_game: 0.373, prop_days: 0.642206\n"
     ]
    }
   ],
   "source": [
    "import numpy as np\n",
    "\n",
    "def win_simulator(n_games=100, p_win_game=0.367, min_prop_games_won=0.3551, n_days=1000000):\n",
    "    \"\"\"\n",
    "    This function calculates the proportion of days in which the proportion of games won is at least min_prop_games_won.\n",
    "    :param min_prop_games_won: only days where the proportion of wins is at least this value are counted;\n",
    "                               0.3551 is the pre-bonus break-even rate for the $100 games.\n",
    "    :param n_games: number of games played in 1 iteration of the simulation, representing 1 day of n_games games\n",
    "    :param p_win_game: winning probability for each game in the simulation\n",
    "    :param n_days: number of days of play in the full simulation\n",
    "    :return: proportion of days where proportion of games won is at least min_prop_games_won\n",
    "    \"\"\"\n",
    "\n",
    "    daily_win_count_array = np.random.binomial(n_games, p_win_game, n_days)\n",
    "    prop_days_win_at_least_min_prop = len(daily_win_count_array[daily_win_count_array >= min_prop_games_won * n_games]) / n_days\n",
    "\n",
    "    return prop_days_win_at_least_min_prop\n",
    "\n",
    "print('p_win_game: 0.36, prop_days:', win_simulator(p_win_game=0.36))\n",
    "print('p_win_game: 0.363, prop_days:', win_simulator(p_win_game=0.363))\n",
    "print('p_win_game: 0.367, prop_days:', win_simulator(p_win_game=0.367))\n",
    "print('p_win_game: 0.370, prop_days:', win_simulator(p_win_game=0.370))\n",
    "print('p_win_game: 0.373, prop_days:', win_simulator(p_win_game=0.373))"
   ]
  },
  {
   "cell_type": "code",
   "execution_count": null,
   "id": "c86c6532",
   "metadata": {},
   "outputs": [],
   "source": []
  }
 ],
 "metadata": {
  "kernelspec": {
   "display_name": "Python 3 (ipykernel)",
   "language": "python",
   "name": "python3"
  },
  "language_info": {
   "codemirror_mode": {
    "name": "ipython",
    "version": 3
   },
   "file_extension": ".py",
   "mimetype": "text/x-python",
   "name": "python",
   "nbconvert_exporter": "python",
   "pygments_lexer": "ipython3",
   "version": "3.10.5"
  }
 },
 "nbformat": 4,
 "nbformat_minor": 5
}
