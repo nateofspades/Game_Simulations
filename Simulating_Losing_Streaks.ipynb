{
 "cells": [
  {
   "cell_type": "code",
   "execution_count": 1,
   "id": "3c72dc46",
   "metadata": {},
   "outputs": [],
   "source": [
    "import numpy as np"
   ]
  },
  {
   "cell_type": "code",
   "execution_count": 2,
   "id": "0be06702",
   "metadata": {},
   "outputs": [],
   "source": [
    "def loss_streak_simulator(n_games=100, p_win_game=0.367):\n",
    "    \"\"\"\n",
    "    This function generates a string of wins (W's) and losses (L's) and counts maximal L-streaks for each size from 3 to 10.\n",
    "    :param n_games: number of games played in 1 iteration of the simulation, representing 1 day of n_games games\n",
    "    :param p_win_game: winning probability for each game in the simulation\n",
    "    :return: counts of maximal loss streaks of sizes 3 to 10\n",
    "    \"\"\"\n",
    "\n",
    "    # Generate a string of W's (wins) and L's (losses), e.g. 'WWLLLWL' (for n_games = 7)\n",
    "    result_string = ''\n",
    "    for i in range(n_games):\n",
    "        result = np.random.binomial(1, p_win_game)\n",
    "        if result == 0:\n",
    "            result_string += 'L'\n",
    "        if result == 1:\n",
    "            result_string += 'W'\n",
    "\n",
    "    # Eliminate the W's to investigate the losing streaks.\n",
    "    loss_streak_array = result_string.split('W')\n",
    "    loss_streak_array = np.array(loss_streak_array)\n",
    "    loss_streak_array = loss_streak_array[loss_streak_array != '']\n",
    "\n",
    "    # Count how many maximal losing streaks there are for each length from 3 to 10.\n",
    "    for loss_streak in loss_streak_array:\n",
    "        count_3_loss_streak = len(loss_streak_array[loss_streak_array == 'LLL'])\n",
    "        count_4_loss_streak = len(loss_streak_array[loss_streak_array == 'LLLL'])\n",
    "        count_5_loss_streak = len(loss_streak_array[loss_streak_array == 'LLLLL'])\n",
    "        count_6_loss_streak = len(loss_streak_array[loss_streak_array == 'LLLLLL'])\n",
    "        count_7_loss_streak = len(loss_streak_array[loss_streak_array == 'LLLLLLL'])\n",
    "        count_8_loss_streak = len(loss_streak_array[loss_streak_array == 'LLLLLLLL'])\n",
    "        count_9_loss_streak = len(loss_streak_array[loss_streak_array == 'LLLLLLLLL'])\n",
    "        count_10_loss_streak = len(loss_streak_array[loss_streak_array == 'LLLLLLLLLL'])\n",
    "\n",
    "    return np.array([count_3_loss_streak, count_4_loss_streak, count_5_loss_streak, count_6_loss_streak,\n",
    "                     count_7_loss_streak, count_8_loss_streak, count_9_loss_streak, count_10_loss_streak])"
   ]
  },
  {
   "cell_type": "code",
   "execution_count": 3,
   "id": "3e1053f2",
   "metadata": {},
   "outputs": [
    {
     "name": "stdout",
     "output_type": "stream",
     "text": [
      "Running a simulation in which 100 games are played per day for 10000000 days. \n",
      "\n",
      "'p_win_game' is the (independent) winning probability for each game. \n",
      "\n",
      "'loss_streak_array' is the array representing how many maximal n-game losing streaks there are on the average day. \n",
      " The first entry is for n=3, the second is for n=4, etc. \n",
      "\n",
      "p_win_game = 0.363:   loss_streak_array: [3.46 2.18 1.38 0.87 0.55 0.34 0.22 0.14]\n",
      "p_win_game = 0.367:   loss_streak_array: [3.47 2.17 1.36 0.85 0.53 0.33 0.21 0.13]\n",
      "p_win_game = 0.37:    loss_streak_array: [3.47 2.17 1.35 0.84 0.53 0.33 0.2  0.13]\n",
      "p_win_game = 0.375:   loss_streak_array: [3.48 2.15 1.33 0.82 0.51 0.32 0.2  0.12]\n"
     ]
    }
   ],
   "source": [
    "# Playing for 10000000 days and averaging how many daily loss streaks there are of each size for different p_win_game\n",
    "# values (e.g. how many maximal 3-loss streaks on average per day, how many maximal 4-loss streaks on average per day, etc.)\n",
    "\n",
    "print(\"Running a simulation in which 100 games are played per day for 10000000 days. \\n\")\n",
    "print(\"'p_win_game' is the (independent) winning probability for each game. \\n\")\n",
    "print(\"'loss_streak_array' is the array representing how many maximal n-game losing streaks there are on the average day. \\n The first entry is for n=3, the second is for n=4, etc. \\n\")\n",
    "\n",
    "\n",
    "loss_streak_array = np.array([0,0,0,0,0,0,0,0])\n",
    "for day in range(10000000):\n",
    "    loss_streak_array += loss_streak_simulator(p_win_game=0.363)\n",
    "loss_streak_array = loss_streak_array/10000000\n",
    "print('p_win_game = 0.363:   loss_streak_array:', loss_streak_array.round(2))\n",
    "\n",
    "loss_streak_array = np.array([0,0,0,0,0,0,0,0])\n",
    "for day in range(10000000):\n",
    "    loss_streak_array += loss_streak_simulator(p_win_game=0.367)\n",
    "loss_streak_array = loss_streak_array/10000000\n",
    "print('p_win_game = 0.367:   loss_streak_array:', loss_streak_array.round(2))\n",
    "\n",
    "loss_streak_array = np.array([0,0,0,0,0,0,0,0])\n",
    "for day in range(10000000):\n",
    "    loss_streak_array += loss_streak_simulator(p_win_game=0.37)\n",
    "loss_streak_array = loss_streak_array/10000000\n",
    "print('p_win_game = 0.37:    loss_streak_array:', loss_streak_array.round(2))\n",
    "\n",
    "loss_streak_array = np.array([0,0,0,0,0,0,0,0])\n",
    "for day in range(10000000):\n",
    "    loss_streak_array += loss_streak_simulator(p_win_game=0.375)\n",
    "loss_streak_array = loss_streak_array/10000000\n",
    "print('p_win_game = 0.375:   loss_streak_array:', loss_streak_array.round(2))"
   ]
  },
  {
   "cell_type": "markdown",
   "id": "03daa31e",
   "metadata": {},
   "source": [
    "Notice from the above outputs that the values in loss_streak_array are not sensitive to fluctuations in p_win_game."
   ]
  }
 ],
 "metadata": {
  "kernelspec": {
   "display_name": "Python 3 (ipykernel)",
   "language": "python",
   "name": "python3"
  },
  "language_info": {
   "codemirror_mode": {
    "name": "ipython",
    "version": 3
   },
   "file_extension": ".py",
   "mimetype": "text/x-python",
   "name": "python",
   "nbconvert_exporter": "python",
   "pygments_lexer": "ipython3",
   "version": "3.10.5"
  }
 },
 "nbformat": 4,
 "nbformat_minor": 5
}
