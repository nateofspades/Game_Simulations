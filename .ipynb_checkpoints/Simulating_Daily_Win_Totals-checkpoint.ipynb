{
 "cells": [
  {
   "cell_type": "code",
   "execution_count": 1,
   "id": "6b3e6002",
   "metadata": {},
   "outputs": [],
   "source": [
    "import numpy as np"
   ]
  },
  {
   "cell_type": "code",
   "execution_count": 2,
   "id": "c65eda79",
   "metadata": {},
   "outputs": [],
   "source": [
    "def win_simulator(n_games=100, p_win_game=0.367, min_prop_games_won=0.3551, n_days=100000000):\n",
    "    \"\"\"\n",
    "    This function calculates the proportion of days in which the proportion of games won is at least min_prop_games_won.\n",
    "    :param min_prop_games_won: only days where the proportion of wins is at least this value are counted;\n",
    "                               0.3551 is the pre-bonus break-even rate for the $100 games.\n",
    "    :param n_games: number of games played in 1 iteration of the simulation, representing 1 day of n_games games\n",
    "    :param p_win_game: winning probability for each game in the simulation\n",
    "    :param n_days: number of days of play in the full simulation\n",
    "    :return: proportion of days where proportion of games won is at least min_prop_games_won\n",
    "    \"\"\"\n",
    "\n",
    "    daily_win_count_array = np.random.binomial(n_games, p_win_game, n_days)\n",
    "    prop_days_win_at_least_min_prop = len(daily_win_count_array[daily_win_count_array >= min_prop_games_won * n_games]) / n_days\n",
    "\n",
    "    return prop_days_win_at_least_min_prop"
   ]
  },
  {
   "cell_type": "code",
   "execution_count": 3,
   "id": "5bff4a39",
   "metadata": {},
   "outputs": [
    {
     "name": "stdout",
     "output_type": "stream",
     "text": [
      "'p_win_game' is the (independent) winning probability for each game\n",
      "'prop_days' is the proportion of days in which the proportion of games won is at least min_prop_games_won \n",
      "\n",
      "p_win_game: 0.36,    prop_days: 0.54\n",
      "p_win_game: 0.363,   prop_days: 0.56\n",
      "p_win_game: 0.367,   prop_days: 0.59\n",
      "p_win_game: 0.370,   prop_days: 0.62\n",
      "p_win_game: 0.373,   prop_days: 0.64\n"
     ]
    }
   ],
   "source": [
    "print(\"'p_win_game' is the (independent) winning probability for each game\")\n",
    "print(\"'prop_days' is the proportion of days in which the proportion of games won is at least min_prop_games_won \\n\")\n",
    "\n",
    "print('p_win_game: 0.36,    prop_days:', round(win_simulator(p_win_game=0.36), 2))\n",
    "print('p_win_game: 0.363,   prop_days:', round(win_simulator(p_win_game=0.363), 2))\n",
    "print('p_win_game: 0.367,   prop_days:', round(win_simulator(p_win_game=0.367), 2))\n",
    "print('p_win_game: 0.370,   prop_days:', round(win_simulator(p_win_game=0.370), 2))\n",
    "print('p_win_game: 0.373,   prop_days:', round(win_simulator(p_win_game=0.373), 2))"
   ]
  }
 ],
 "metadata": {
  "kernelspec": {
   "display_name": "Python 3 (ipykernel)",
   "language": "python",
   "name": "python3"
  },
  "language_info": {
   "codemirror_mode": {
    "name": "ipython",
    "version": 3
   },
   "file_extension": ".py",
   "mimetype": "text/x-python",
   "name": "python",
   "nbconvert_exporter": "python",
   "pygments_lexer": "ipython3",
   "version": "3.10.5"
  }
 },
 "nbformat": 4,
 "nbformat_minor": 5
}
